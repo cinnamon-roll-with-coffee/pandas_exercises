{
 "cells": [
  {
   "cell_type": "markdown",
   "metadata": {},
   "source": [
    "# Exercise 1"
   ]
  },
  {
   "cell_type": "code",
   "execution_count": 1,
   "metadata": {},
   "outputs": [],
   "source": [
    "import findspark\n",
    "findspark.init()"
   ]
  },
  {
   "cell_type": "code",
   "execution_count": 2,
   "metadata": {},
   "outputs": [],
   "source": [
    "import pandas as pd\n",
    "from pyspark import SparkContext, SparkConf\n",
    "from pyspark.sql import SparkSession"
   ]
  },
  {
   "cell_type": "code",
   "execution_count": 42,
   "metadata": {},
   "outputs": [],
   "source": [
    "from pyspark.sql.functions import col"
   ]
  },
  {
   "cell_type": "code",
   "execution_count": 3,
   "metadata": {},
   "outputs": [],
   "source": [
    "spark = SparkSession \\\n",
    "    .builder \\\n",
    "    .appName(\"Worls Food Facts Exercise\") \\\n",
    "    .getOrCreate()"
   ]
  },
  {
   "cell_type": "code",
   "execution_count": 4,
   "metadata": {},
   "outputs": [
    {
     "data": {
      "text/html": [
       "\n",
       "            <div>\n",
       "                <p><b>SparkSession - in-memory</b></p>\n",
       "                \n",
       "        <div>\n",
       "            <p><b>SparkContext</b></p>\n",
       "\n",
       "            <p><a href=\"http://LAPTOP-5JI33TI9:4040\">Spark UI</a></p>\n",
       "\n",
       "            <dl>\n",
       "              <dt>Version</dt>\n",
       "                <dd><code>v3.3.1</code></dd>\n",
       "              <dt>Master</dt>\n",
       "                <dd><code>local[*]</code></dd>\n",
       "              <dt>AppName</dt>\n",
       "                <dd><code>Worls Food Facts Exercise</code></dd>\n",
       "            </dl>\n",
       "        </div>\n",
       "        \n",
       "            </div>\n",
       "        "
      ],
      "text/plain": [
       "<pyspark.sql.session.SparkSession at 0x2dff137a380>"
      ]
     },
     "execution_count": 4,
     "metadata": {},
     "output_type": "execute_result"
    }
   ],
   "source": [
    "spark"
   ]
  },
  {
   "cell_type": "markdown",
   "metadata": {},
   "source": [
    "### Step 1. Go to https://www.kaggle.com/openfoodfacts/world-food-facts/data"
   ]
  },
  {
   "cell_type": "markdown",
   "metadata": {},
   "source": [
    "### Step 2. Download the dataset to your computer and unzip it."
   ]
  },
  {
   "cell_type": "markdown",
   "metadata": {},
   "source": [
    "### Step 3. Use the tsv file and assign it to a dataframe called food"
   ]
  },
  {
   "cell_type": "code",
   "execution_count": 34,
   "metadata": {
    "tags": []
   },
   "outputs": [],
   "source": [
    "food = spark.read.csv(\"en.openfoodfacts.org.products.tsv\", sep=r'\\t', header=True)"
   ]
  },
  {
   "cell_type": "markdown",
   "metadata": {},
   "source": [
    "### Step 4. See the first 5 entries"
   ]
  },
  {
   "cell_type": "code",
   "execution_count": 38,
   "metadata": {
    "tags": []
   },
   "outputs": [
    {
     "name": "stdout",
     "output_type": "stream",
     "text": [
      "+-------------+--------------------+--------------------+----------+--------------------+---------------+----------------------+--------------------+------------+--------+---------+--------------+---------------+---------------+----------+---------------+-------------+-------+------------+--------------------+-------------------------+------+-----------+---------+---------+--------------+------------------------+------+-----------+---------------+------+---------+----------------+-------------+--------------------+---------+------------+------+-----------+---------+---------------+-------------+-----------+--------------------+--------------+------------+---------------------------+-------------------------+------------------------------+---------------------------------------+-------------------------------------+------------------------------------------+------------------+------------------+-------------+-------------+--------------------+--------------------+--------------------+-------------+----------------+---------+---------------+-----------+--------------------+--------+------------------+------------------+------------------+-------------------+-----------------+-----------------+-------------------+-------------------+------------------+--------------------+------------------+---------------------+------------------+-------------------+-------------------+------------------------+------------------------+----------------+--------------------------+---------------------------+--------------------------+----------------+-------------------+----------------------+--------------------------+---------------------------------+----------------+----------------+------------------+------------------+---------------+-----------------+-------------------+--------------+----------------+------------------+-----------+-------------+-------------+--------------+-------------+-------------+-------------------+-----------+------------+----------+-------------+-----------+-------------------+----------------+---------+-----------+------------+--------------+------------------+--------------+--------------+--------------+--------------+---------------+---------------+---------------+---------------+---------------+------------+----------------+-----------+---------------------+-----------+----------------+--------------+-------------+------------+---------------+---------+--------------+---------+-----------+--------------+-------------+-------------+-------------+---------------+-----------+-------------+------------+-------+---------------------------+------------------------------------+--------------------------------+----------+---------------+---------------------+-----------------------+-----------------------+-------------------+-------------------+\n",
      "|         code|                 url|             creator| created_t|    created_datetime|last_modified_t|last_modified_datetime|        product_name|generic_name|quantity|packaging|packaging_tags|         brands|    brands_tags|categories|categories_tags|categories_en|origins|origins_tags|manufacturing_places|manufacturing_places_tags|labels|labels_tags|labels_en|emb_codes|emb_codes_tags|first_packaging_code_geo|cities|cities_tags|purchase_places|stores|countries|  countries_tags| countries_en|    ingredients_text|allergens|allergens_en|traces|traces_tags|traces_en|   serving_size|no_nutriments|additives_n|           additives|additives_tags|additives_en|ingredients_from_palm_oil_n|ingredients_from_palm_oil|ingredients_from_palm_oil_tags|ingredients_that_may_be_from_palm_oil_n|ingredients_that_may_be_from_palm_oil|ingredients_that_may_be_from_palm_oil_tags|nutrition_grade_uk|nutrition_grade_fr|pnns_groups_1|pnns_groups_2|              states|         states_tags|           states_en|main_category|main_category_en|image_url|image_small_url|energy_100g|energy-from-fat_100g|fat_100g|saturated-fat_100g|-butyric-acid_100g|-caproic-acid_100g|-caprylic-acid_100g|-capric-acid_100g|-lauric-acid_100g|-myristic-acid_100g|-palmitic-acid_100g|-stearic-acid_100g|-arachidic-acid_100g|-behenic-acid_100g|-lignoceric-acid_100g|-cerotic-acid_100g|-montanic-acid_100g|-melissic-acid_100g|monounsaturated-fat_100g|polyunsaturated-fat_100g|omega-3-fat_100g|-alpha-linolenic-acid_100g|-eicosapentaenoic-acid_100g|-docosahexaenoic-acid_100g|omega-6-fat_100g|-linoleic-acid_100g|-arachidonic-acid_100g|-gamma-linolenic-acid_100g|-dihomo-gamma-linolenic-acid_100g|omega-9-fat_100g|-oleic-acid_100g|-elaidic-acid_100g|-gondoic-acid_100g|-mead-acid_100g|-erucic-acid_100g|-nervonic-acid_100g|trans-fat_100g|cholesterol_100g|carbohydrates_100g|sugars_100g|-sucrose_100g|-glucose_100g|-fructose_100g|-lactose_100g|-maltose_100g|-maltodextrins_100g|starch_100g|polyols_100g|fiber_100g|proteins_100g|casein_100g|serum-proteins_100g|nucleotides_100g|salt_100g|sodium_100g|alcohol_100g|vitamin-a_100g|beta-carotene_100g|vitamin-d_100g|vitamin-e_100g|vitamin-k_100g|vitamin-c_100g|vitamin-b1_100g|vitamin-b2_100g|vitamin-pp_100g|vitamin-b6_100g|vitamin-b9_100g|folates_100g|vitamin-b12_100g|biotin_100g|pantothenic-acid_100g|silica_100g|bicarbonate_100g|potassium_100g|chloride_100g|calcium_100g|phosphorus_100g|iron_100g|magnesium_100g|zinc_100g|copper_100g|manganese_100g|fluoride_100g|selenium_100g|chromium_100g|molybdenum_100g|iodine_100g|caffeine_100g|taurine_100g|ph_100g|fruits-vegetables-nuts_100g|fruits-vegetables-nuts-estimate_100g|collagen-meat-protein-ratio_100g|cocoa_100g|chlorophyl_100g|carbon-footprint_100g|nutrition-score-fr_100g|nutrition-score-uk_100g|glycemic-index_100g|water-hardness_100g|\n",
      "+-------------+--------------------+--------------------+----------+--------------------+---------------+----------------------+--------------------+------------+--------+---------+--------------+---------------+---------------+----------+---------------+-------------+-------+------------+--------------------+-------------------------+------+-----------+---------+---------+--------------+------------------------+------+-----------+---------------+------+---------+----------------+-------------+--------------------+---------+------------+------+-----------+---------+---------------+-------------+-----------+--------------------+--------------+------------+---------------------------+-------------------------+------------------------------+---------------------------------------+-------------------------------------+------------------------------------------+------------------+------------------+-------------+-------------+--------------------+--------------------+--------------------+-------------+----------------+---------+---------------+-----------+--------------------+--------+------------------+------------------+------------------+-------------------+-----------------+-----------------+-------------------+-------------------+------------------+--------------------+------------------+---------------------+------------------+-------------------+-------------------+------------------------+------------------------+----------------+--------------------------+---------------------------+--------------------------+----------------+-------------------+----------------------+--------------------------+---------------------------------+----------------+----------------+------------------+------------------+---------------+-----------------+-------------------+--------------+----------------+------------------+-----------+-------------+-------------+--------------+-------------+-------------+-------------------+-----------+------------+----------+-------------+-----------+-------------------+----------------+---------+-----------+------------+--------------+------------------+--------------+--------------+--------------+--------------+---------------+---------------+---------------+---------------+---------------+------------+----------------+-----------+---------------------+-----------+----------------+--------------+-------------+------------+---------------+---------+--------------+---------+-----------+--------------+-------------+-------------+-------------+---------------+-----------+-------------+------------+-------+---------------------------+------------------------------------+--------------------------------+----------+---------------+---------------------+-----------------------+-----------------------+-------------------+-------------------+\n",
      "|0000000003087|http://world-en.o...|openfoodfacts-con...|1474103866|2016-09-17T09:17:46Z|     1474103893|  2016-09-17T09:18:13Z|  Farine de blé noir|        null|     1kg|     null|          null|Ferme t'y R'nao|ferme-t-y-r-nao|      null|           null|         null|   null|        null|                null|                     null|  null|       null|     null|     null|          null|                    null|  null|       null|           null|  null|    en:FR|       en:france|       France|                null|     null|        null|  null|       null|     null|           null|         null|       null|                null|          null|        null|                       null|                     null|                          null|                                   null|                                 null|                                      null|              null|              null|         null|         null|en:to-be-complete...|en:to-be-complete...|To be completed,N...|         null|            null|     null|           null|       null|                null|    null|              null|              null|              null|               null|             null|             null|               null|               null|              null|                null|              null|                 null|              null|               null|               null|                    null|                    null|            null|                      null|                       null|                      null|            null|               null|                  null|                      null|                             null|            null|            null|              null|              null|           null|             null|               null|          null|            null|              null|       null|         null|         null|          null|         null|         null|               null|       null|        null|      null|         null|       null|               null|            null|     null|       null|        null|          null|              null|          null|          null|          null|          null|           null|           null|           null|           null|           null|        null|            null|       null|                 null|       null|            null|          null|         null|        null|           null|     null|          null|     null|       null|          null|         null|         null|         null|           null|       null|         null|        null|   null|                       null|                                null|                            null|      null|           null|                 null|                   null|                   null|               null|               null|\n",
      "|0000000004530|http://world-en.o...|     usda-ndb-import|1489069957|2017-03-09T14:32:37Z|     1489069957|  2017-03-09T14:32:37Z|Banana Chips Swee...|        null|    null|     null|          null|           null|           null|      null|           null|         null|   null|        null|                null|                     null|  null|       null|     null|     null|          null|                    null|  null|       null|           null|  null|       US|en:united-states|United States|Bananas, vegetabl...|     null|        null|  null|       null|     null|   28 g (1 ONZ)|         null|          0| [ bananas -> en:...|          null|        null|                          0|                     null|                          null|                                      0|                                 null|                                      null|              null|                 d|         null|         null|en:to-be-complete...|en:to-be-complete...|To be completed,N...|         null|            null|     null|           null|       2243|                null|   28.57|             28.57|              null|              null|               null|             null|             null|               null|               null|              null|                null|              null|                 null|              null|               null|               null|                    null|                    null|            null|                      null|                       null|                      null|            null|               null|                  null|                      null|                             null|            null|            null|              null|              null|           null|             null|               null|             0|           0.018|             64.29|      14.29|         null|         null|          null|         null|         null|               null|       null|        null|       3.6|         3.57|       null|               null|            null|        0|          0|        null|             0|              null|          null|          null|          null|        0.0214|           null|           null|           null|           null|           null|        null|            null|       null|                 null|       null|            null|          null|         null|           0|           null|  0.00129|          null|     null|       null|          null|         null|         null|         null|           null|       null|         null|        null|   null|                       null|                                null|                            null|      null|           null|                 null|                     14|                     14|               null|               null|\n",
      "|0000000004559|http://world-en.o...|     usda-ndb-import|1489069957|2017-03-09T14:32:37Z|     1489069957|  2017-03-09T14:32:37Z|             Peanuts|        null|    null|     null|          null| Torn & Glasser|   torn-glasser|      null|           null|         null|   null|        null|                null|                     null|  null|       null|     null|     null|          null|                    null|  null|       null|           null|  null|       US|en:united-states|United States|Peanuts, wheat fl...|     null|        null|  null|       null|     null|28 g (0.25 cup)|         null|          0| [ peanuts -> en:...|          null|        null|                          0|                     null|                          null|                                      0|                                 null|                                      null|              null|                 b|         null|         null|en:to-be-complete...|en:to-be-complete...|To be completed,N...|         null|            null|     null|           null|       1941|                null|   17.86|                 0|              null|              null|               null|             null|             null|               null|               null|              null|                null|              null|                 null|              null|               null|               null|                    null|                    null|            null|                      null|                       null|                      null|            null|               null|                  null|                      null|                             null|            null|            null|              null|              null|           null|             null|               null|             0|               0|             60.71|      17.86|         null|         null|          null|         null|         null|               null|       null|        null|       7.1|        17.86|       null|               null|            null|    0.635|       0.25|        null|             0|              null|          null|          null|          null|             0|           null|           null|           null|           null|           null|        null|            null|       null|                 null|       null|            null|          null|         null|       0.071|           null|  0.00129|          null|     null|       null|          null|         null|         null|         null|           null|       null|         null|        null|   null|                       null|                                null|                            null|      null|           null|                 null|                      0|                      0|               null|               null|\n",
      "|0000000016087|http://world-en.o...|     usda-ndb-import|1489055731|2017-03-09T10:35:31Z|     1489055731|  2017-03-09T10:35:31Z|Organic Salted Nu...|        null|    null|     null|          null|      Grizzlies|      grizzlies|      null|           null|         null|   null|        null|                null|                     null|  null|       null|     null|     null|          null|                    null|  null|       null|           null|  null|       US|en:united-states|United States|Organic hazelnuts...|     null|        null|  null|       null|     null|28 g (0.25 cup)|         null|          0| [ organic-hazeln...|          null|        null|                          0|                     null|                          null|                                      0|                                 null|                                      null|              null|                 d|         null|         null|en:to-be-complete...|en:to-be-complete...|To be completed,N...|         null|            null|     null|           null|       2540|                null|   57.14|              5.36|              null|              null|               null|             null|             null|               null|               null|              null|                null|              null|                 null|              null|               null|               null|                    null|                    null|            null|                      null|                       null|                      null|            null|               null|                  null|                      null|                             null|            null|            null|              null|              null|           null|             null|               null|          null|            null|             17.86|       3.57|         null|         null|          null|         null|         null|               null|       null|        null|       7.1|        17.86|       null|               null|            null|  1.22428|      0.482|        null|          null|              null|          null|          null|          null|          null|           null|           null|           null|           null|           null|        null|            null|       null|                 null|       null|            null|          null|         null|       0.143|           null|  0.00514|          null|     null|       null|          null|         null|         null|         null|           null|       null|         null|        null|   null|                       null|                                null|                            null|      null|           null|                 null|                     12|                     12|               null|               null|\n",
      "|0000000016094|http://world-en.o...|     usda-ndb-import|1489055653|2017-03-09T10:34:13Z|     1489055653|  2017-03-09T10:34:13Z|     Organic Polenta|        null|    null|     null|          null| Bob's Red Mill| bob-s-red-mill|      null|           null|         null|   null|        null|                null|                     null|  null|       null|     null|     null|          null|                    null|  null|       null|           null|  null|       US|en:united-states|United States|     Organic polenta|     null|        null|  null|       null|     null|35 g (0.25 cup)|         null|          0| [ organic-polent...|          null|        null|                          0|                     null|                          null|                                      0|                                 null|                                      null|              null|              null|         null|         null|en:to-be-complete...|en:to-be-complete...|To be completed,N...|         null|            null|     null|           null|       1552|                null|    1.43|              null|              null|              null|               null|             null|             null|               null|               null|              null|                null|              null|                 null|              null|               null|               null|                    null|                    null|            null|                      null|                       null|                      null|            null|               null|                  null|                      null|                             null|            null|            null|              null|              null|           null|             null|               null|          null|            null|             77.14|       null|         null|         null|          null|         null|         null|               null|       null|        null|       5.7|         8.57|       null|               null|            null|     null|       null|        null|          null|              null|          null|          null|          null|          null|           null|           null|           null|           null|           null|        null|            null|       null|                 null|       null|            null|          null|         null|        null|           null|     null|          null|     null|       null|          null|         null|         null|         null|           null|       null|         null|        null|   null|                       null|                                null|                            null|      null|           null|                 null|                   null|                   null|               null|               null|\n",
      "+-------------+--------------------+--------------------+----------+--------------------+---------------+----------------------+--------------------+------------+--------+---------+--------------+---------------+---------------+----------+---------------+-------------+-------+------------+--------------------+-------------------------+------+-----------+---------+---------+--------------+------------------------+------+-----------+---------------+------+---------+----------------+-------------+--------------------+---------+------------+------+-----------+---------+---------------+-------------+-----------+--------------------+--------------+------------+---------------------------+-------------------------+------------------------------+---------------------------------------+-------------------------------------+------------------------------------------+------------------+------------------+-------------+-------------+--------------------+--------------------+--------------------+-------------+----------------+---------+---------------+-----------+--------------------+--------+------------------+------------------+------------------+-------------------+-----------------+-----------------+-------------------+-------------------+------------------+--------------------+------------------+---------------------+------------------+-------------------+-------------------+------------------------+------------------------+----------------+--------------------------+---------------------------+--------------------------+----------------+-------------------+----------------------+--------------------------+---------------------------------+----------------+----------------+------------------+------------------+---------------+-----------------+-------------------+--------------+----------------+------------------+-----------+-------------+-------------+--------------+-------------+-------------+-------------------+-----------+------------+----------+-------------+-----------+-------------------+----------------+---------+-----------+------------+--------------+------------------+--------------+--------------+--------------+--------------+---------------+---------------+---------------+---------------+---------------+------------+----------------+-----------+---------------------+-----------+----------------+--------------+-------------+------------+---------------+---------+--------------+---------+-----------+--------------+-------------+-------------+-------------+---------------+-----------+-------------+------------+-------+---------------------------+------------------------------------+--------------------------------+----------+---------------+---------------------+-----------------------+-----------------------+-------------------+-------------------+\n",
      "only showing top 5 rows\n",
      "\n"
     ]
    }
   ],
   "source": [
    "food.show(5)"
   ]
  },
  {
   "cell_type": "markdown",
   "metadata": {},
   "source": [
    "### Step 5. What is the number of observations in the dataset?"
   ]
  },
  {
   "cell_type": "code",
   "execution_count": 47,
   "metadata": {
    "tags": []
   },
   "outputs": [
    {
     "data": {
      "text/plain": [
       "356027"
      ]
     },
     "execution_count": 47,
     "metadata": {},
     "output_type": "execute_result"
    }
   ],
   "source": [
    "food.count()"
   ]
  },
  {
   "cell_type": "markdown",
   "metadata": {},
   "source": [
    "### Step 6. What is the number of columns in the dataset?"
   ]
  },
  {
   "cell_type": "code",
   "execution_count": 45,
   "metadata": {
    "tags": []
   },
   "outputs": [
    {
     "data": {
      "text/plain": [
       "163"
      ]
     },
     "execution_count": 45,
     "metadata": {},
     "output_type": "execute_result"
    }
   ],
   "source": [
    "len(food.columns)"
   ]
  },
  {
   "cell_type": "markdown",
   "metadata": {},
   "source": [
    "### Step 7. Print the name of all the columns."
   ]
  },
  {
   "cell_type": "code",
   "execution_count": 48,
   "metadata": {
    "tags": []
   },
   "outputs": [
    {
     "data": {
      "text/plain": [
       "['code',\n",
       " 'url',\n",
       " 'creator',\n",
       " 'created_t',\n",
       " 'created_datetime',\n",
       " 'last_modified_t',\n",
       " 'last_modified_datetime',\n",
       " 'product_name',\n",
       " 'generic_name',\n",
       " 'quantity',\n",
       " 'packaging',\n",
       " 'packaging_tags',\n",
       " 'brands',\n",
       " 'brands_tags',\n",
       " 'categories',\n",
       " 'categories_tags',\n",
       " 'categories_en',\n",
       " 'origins',\n",
       " 'origins_tags',\n",
       " 'manufacturing_places',\n",
       " 'manufacturing_places_tags',\n",
       " 'labels',\n",
       " 'labels_tags',\n",
       " 'labels_en',\n",
       " 'emb_codes',\n",
       " 'emb_codes_tags',\n",
       " 'first_packaging_code_geo',\n",
       " 'cities',\n",
       " 'cities_tags',\n",
       " 'purchase_places',\n",
       " 'stores',\n",
       " 'countries',\n",
       " 'countries_tags',\n",
       " 'countries_en',\n",
       " 'ingredients_text',\n",
       " 'allergens',\n",
       " 'allergens_en',\n",
       " 'traces',\n",
       " 'traces_tags',\n",
       " 'traces_en',\n",
       " 'serving_size',\n",
       " 'no_nutriments',\n",
       " 'additives_n',\n",
       " 'additives',\n",
       " 'additives_tags',\n",
       " 'additives_en',\n",
       " 'ingredients_from_palm_oil_n',\n",
       " 'ingredients_from_palm_oil',\n",
       " 'ingredients_from_palm_oil_tags',\n",
       " 'ingredients_that_may_be_from_palm_oil_n',\n",
       " 'ingredients_that_may_be_from_palm_oil',\n",
       " 'ingredients_that_may_be_from_palm_oil_tags',\n",
       " 'nutrition_grade_uk',\n",
       " 'nutrition_grade_fr',\n",
       " 'pnns_groups_1',\n",
       " 'pnns_groups_2',\n",
       " 'states',\n",
       " 'states_tags',\n",
       " 'states_en',\n",
       " 'main_category',\n",
       " 'main_category_en',\n",
       " 'image_url',\n",
       " 'image_small_url',\n",
       " 'energy_100g',\n",
       " 'energy-from-fat_100g',\n",
       " 'fat_100g',\n",
       " 'saturated-fat_100g',\n",
       " '-butyric-acid_100g',\n",
       " '-caproic-acid_100g',\n",
       " '-caprylic-acid_100g',\n",
       " '-capric-acid_100g',\n",
       " '-lauric-acid_100g',\n",
       " '-myristic-acid_100g',\n",
       " '-palmitic-acid_100g',\n",
       " '-stearic-acid_100g',\n",
       " '-arachidic-acid_100g',\n",
       " '-behenic-acid_100g',\n",
       " '-lignoceric-acid_100g',\n",
       " '-cerotic-acid_100g',\n",
       " '-montanic-acid_100g',\n",
       " '-melissic-acid_100g',\n",
       " 'monounsaturated-fat_100g',\n",
       " 'polyunsaturated-fat_100g',\n",
       " 'omega-3-fat_100g',\n",
       " '-alpha-linolenic-acid_100g',\n",
       " '-eicosapentaenoic-acid_100g',\n",
       " '-docosahexaenoic-acid_100g',\n",
       " 'omega-6-fat_100g',\n",
       " '-linoleic-acid_100g',\n",
       " '-arachidonic-acid_100g',\n",
       " '-gamma-linolenic-acid_100g',\n",
       " '-dihomo-gamma-linolenic-acid_100g',\n",
       " 'omega-9-fat_100g',\n",
       " '-oleic-acid_100g',\n",
       " '-elaidic-acid_100g',\n",
       " '-gondoic-acid_100g',\n",
       " '-mead-acid_100g',\n",
       " '-erucic-acid_100g',\n",
       " '-nervonic-acid_100g',\n",
       " 'trans-fat_100g',\n",
       " 'cholesterol_100g',\n",
       " 'carbohydrates_100g',\n",
       " 'sugars_100g',\n",
       " '-sucrose_100g',\n",
       " '-glucose_100g',\n",
       " '-fructose_100g',\n",
       " '-lactose_100g',\n",
       " '-maltose_100g',\n",
       " '-maltodextrins_100g',\n",
       " 'starch_100g',\n",
       " 'polyols_100g',\n",
       " 'fiber_100g',\n",
       " 'proteins_100g',\n",
       " 'casein_100g',\n",
       " 'serum-proteins_100g',\n",
       " 'nucleotides_100g',\n",
       " 'salt_100g',\n",
       " 'sodium_100g',\n",
       " 'alcohol_100g',\n",
       " 'vitamin-a_100g',\n",
       " 'beta-carotene_100g',\n",
       " 'vitamin-d_100g',\n",
       " 'vitamin-e_100g',\n",
       " 'vitamin-k_100g',\n",
       " 'vitamin-c_100g',\n",
       " 'vitamin-b1_100g',\n",
       " 'vitamin-b2_100g',\n",
       " 'vitamin-pp_100g',\n",
       " 'vitamin-b6_100g',\n",
       " 'vitamin-b9_100g',\n",
       " 'folates_100g',\n",
       " 'vitamin-b12_100g',\n",
       " 'biotin_100g',\n",
       " 'pantothenic-acid_100g',\n",
       " 'silica_100g',\n",
       " 'bicarbonate_100g',\n",
       " 'potassium_100g',\n",
       " 'chloride_100g',\n",
       " 'calcium_100g',\n",
       " 'phosphorus_100g',\n",
       " 'iron_100g',\n",
       " 'magnesium_100g',\n",
       " 'zinc_100g',\n",
       " 'copper_100g',\n",
       " 'manganese_100g',\n",
       " 'fluoride_100g',\n",
       " 'selenium_100g',\n",
       " 'chromium_100g',\n",
       " 'molybdenum_100g',\n",
       " 'iodine_100g',\n",
       " 'caffeine_100g',\n",
       " 'taurine_100g',\n",
       " 'ph_100g',\n",
       " 'fruits-vegetables-nuts_100g',\n",
       " 'fruits-vegetables-nuts-estimate_100g',\n",
       " 'collagen-meat-protein-ratio_100g',\n",
       " 'cocoa_100g',\n",
       " 'chlorophyl_100g',\n",
       " 'carbon-footprint_100g',\n",
       " 'nutrition-score-fr_100g',\n",
       " 'nutrition-score-uk_100g',\n",
       " 'glycemic-index_100g',\n",
       " 'water-hardness_100g']"
      ]
     },
     "execution_count": 48,
     "metadata": {},
     "output_type": "execute_result"
    }
   ],
   "source": [
    "food.columns"
   ]
  },
  {
   "cell_type": "markdown",
   "metadata": {},
   "source": [
    "### Step 8. What is the name of 105th column?"
   ]
  },
  {
   "cell_type": "code",
   "execution_count": 49,
   "metadata": {
    "tags": []
   },
   "outputs": [
    {
     "data": {
      "text/plain": [
       "'-glucose_100g'"
      ]
     },
     "execution_count": 49,
     "metadata": {},
     "output_type": "execute_result"
    }
   ],
   "source": [
    "food.columns[104]"
   ]
  },
  {
   "cell_type": "markdown",
   "metadata": {},
   "source": [
    "### Step 9. What is the type of the observations of the 105th column?"
   ]
  },
  {
   "cell_type": "code",
   "execution_count": 56,
   "metadata": {
    "tags": []
   },
   "outputs": [
    {
     "data": {
      "text/plain": [
       "('-glucose_100g', 'string')"
      ]
     },
     "execution_count": 56,
     "metadata": {},
     "output_type": "execute_result"
    }
   ],
   "source": [
    "food.dtypes[104]"
   ]
  },
  {
   "cell_type": "markdown",
   "metadata": {},
   "source": [
    "### Step 10. How is the dataset indexed?"
   ]
  },
  {
   "cell_type": "code",
   "execution_count": null,
   "metadata": {
    "tags": []
   },
   "outputs": [],
   "source": []
  },
  {
   "cell_type": "markdown",
   "metadata": {},
   "source": [
    "### Step 11. What is the product name of the 19th observation?"
   ]
  },
  {
   "cell_type": "code",
   "execution_count": 65,
   "metadata": {
    "tags": []
   },
   "outputs": [
    {
     "data": {
      "text/plain": [
       "Row(product_name='Lotus Organic Brown Jasmine Rice')"
      ]
     },
     "execution_count": 65,
     "metadata": {},
     "output_type": "execute_result"
    }
   ],
   "source": [
    "food.select(\"product_name\").collect()[18]"
   ]
  },
  {
   "cell_type": "code",
   "execution_count": null,
   "metadata": {},
   "outputs": [],
   "source": []
  }
 ],
 "metadata": {
  "anaconda-cloud": {},
  "kernelspec": {
   "display_name": "Python 3 (ipykernel)",
   "language": "python",
   "name": "python3"
  },
  "language_info": {
   "codemirror_mode": {
    "name": "ipython",
    "version": 3
   },
   "file_extension": ".py",
   "mimetype": "text/x-python",
   "name": "python",
   "nbconvert_exporter": "python",
   "pygments_lexer": "ipython3",
   "version": "3.10.2"
  }
 },
 "nbformat": 4,
 "nbformat_minor": 4
}
